{
 "cells": [
  {
   "cell_type": "code",
   "execution_count": 2,
   "metadata": {},
   "outputs": [],
   "source": [
    "import psycopg2 as pg2"
   ]
  },
  {
   "cell_type": "code",
   "execution_count": 3,
   "metadata": {},
   "outputs": [],
   "source": [
    "conn = pg2.connect(database='dvdrental',user='postgres',password='ttnyDOOL3207!')"
   ]
  },
  {
   "cell_type": "code",
   "execution_count": 4,
   "metadata": {},
   "outputs": [],
   "source": [
    "cur = conn.cursor()"
   ]
  },
  {
   "cell_type": "code",
   "execution_count": 6,
   "metadata": {},
   "outputs": [],
   "source": [
    "cur.execute('SELECT * FROM film')"
   ]
  },
  {
   "cell_type": "code",
   "execution_count": 10,
   "metadata": {},
   "outputs": [
    {
     "data": {
      "text/plain": [
       "[(384,\n",
       "  'Grosse Wonderful',\n",
       "  'A Epic Drama of a Cat And a Explorer who must Redeem a Moose in Australia',\n",
       "  2006,\n",
       "  1,\n",
       "  5,\n",
       "  Decimal('4.99'),\n",
       "  49,\n",
       "  Decimal('19.99'),\n",
       "  'R',\n",
       "  datetime.datetime(2013, 5, 26, 14, 50, 58, 951000),\n",
       "  ['Behind the Scenes'],\n",
       "  \"'australia':18 'cat':8 'drama':5 'epic':4 'explor':11 'gross':1 'moos':16 'must':13 'redeem':14 'wonder':2\"),\n",
       " (8,\n",
       "  'Airport Pollock',\n",
       "  'A Epic Tale of a Moose And a Girl who must Confront a Monkey in Ancient India',\n",
       "  2006,\n",
       "  1,\n",
       "  6,\n",
       "  Decimal('4.99'),\n",
       "  54,\n",
       "  Decimal('15.99'),\n",
       "  'R',\n",
       "  datetime.datetime(2013, 5, 26, 14, 50, 58, 951000),\n",
       "  ['Trailers'],\n",
       "  \"'airport':1 'ancient':18 'confront':14 'epic':4 'girl':11 'india':19 'monkey':16 'moos':8 'must':13 'pollock':2 'tale':5\"),\n",
       " (98,\n",
       "  'Bright Encounters',\n",
       "  'A Fateful Yarn of a Lumberjack And a Feminist who must Conquer a Student in A Jet Boat',\n",
       "  2006,\n",
       "  1,\n",
       "  4,\n",
       "  Decimal('4.99'),\n",
       "  73,\n",
       "  Decimal('12.99'),\n",
       "  'PG-13',\n",
       "  datetime.datetime(2013, 5, 26, 14, 50, 58, 951000),\n",
       "  ['Trailers'],\n",
       "  \"'boat':20 'bright':1 'conquer':14 'encount':2 'fate':4 'feminist':11 'jet':19 'lumberjack':8 'must':13 'student':16 'yarn':5\"),\n",
       " (1,\n",
       "  'Academy Dinosaur',\n",
       "  'A Epic Drama of a Feminist And a Mad Scientist who must Battle a Teacher in The Canadian Rockies',\n",
       "  2006,\n",
       "  1,\n",
       "  6,\n",
       "  Decimal('0.99'),\n",
       "  86,\n",
       "  Decimal('20.99'),\n",
       "  'PG',\n",
       "  datetime.datetime(2013, 5, 26, 14, 50, 58, 951000),\n",
       "  ['Deleted Scenes', 'Behind the Scenes'],\n",
       "  \"'academi':1 'battl':15 'canadian':20 'dinosaur':2 'drama':5 'epic':4 'feminist':8 'mad':11 'must':14 'rocki':21 'scientist':12 'teacher':17\"),\n",
       " (2,\n",
       "  'Ace Goldfinger',\n",
       "  'A Astounding Epistle of a Database Administrator And a Explorer who must Find a Car in Ancient China',\n",
       "  2006,\n",
       "  1,\n",
       "  3,\n",
       "  Decimal('4.99'),\n",
       "  48,\n",
       "  Decimal('12.99'),\n",
       "  'G',\n",
       "  datetime.datetime(2013, 5, 26, 14, 50, 58, 951000),\n",
       "  ['Trailers', 'Deleted Scenes'],\n",
       "  \"'ace':1 'administr':9 'ancient':19 'astound':4 'car':17 'china':20 'databas':8 'epistl':5 'explor':12 'find':15 'goldfing':2 'must':14\"),\n",
       " (3,\n",
       "  'Adaptation Holes',\n",
       "  'A Astounding Reflection of a Lumberjack And a Car who must Sink a Lumberjack in A Baloon Factory',\n",
       "  2006,\n",
       "  1,\n",
       "  7,\n",
       "  Decimal('2.99'),\n",
       "  50,\n",
       "  Decimal('18.99'),\n",
       "  'NC-17',\n",
       "  datetime.datetime(2013, 5, 26, 14, 50, 58, 951000),\n",
       "  ['Trailers', 'Deleted Scenes'],\n",
       "  \"'adapt':1 'astound':4 'baloon':19 'car':11 'factori':20 'hole':2 'lumberjack':8,16 'must':13 'reflect':5 'sink':14\"),\n",
       " (4,\n",
       "  'Affair Prejudice',\n",
       "  'A Fanciful Documentary of a Frisbee And a Lumberjack who must Chase a Monkey in A Shark Tank',\n",
       "  2006,\n",
       "  1,\n",
       "  5,\n",
       "  Decimal('2.99'),\n",
       "  117,\n",
       "  Decimal('26.99'),\n",
       "  'G',\n",
       "  datetime.datetime(2013, 5, 26, 14, 50, 58, 951000),\n",
       "  ['Commentaries', 'Behind the Scenes'],\n",
       "  \"'affair':1 'chase':14 'documentari':5 'fanci':4 'frisbe':8 'lumberjack':11 'monkey':16 'must':13 'prejudic':2 'shark':19 'tank':20\"),\n",
       " (5,\n",
       "  'African Egg',\n",
       "  'A Fast-Paced Documentary of a Pastry Chef And a Dentist who must Pursue a Forensic Psychologist in The Gulf of Mexico',\n",
       "  2006,\n",
       "  1,\n",
       "  6,\n",
       "  Decimal('2.99'),\n",
       "  130,\n",
       "  Decimal('22.99'),\n",
       "  'G',\n",
       "  datetime.datetime(2013, 5, 26, 14, 50, 58, 951000),\n",
       "  ['Deleted Scenes'],\n",
       "  \"'african':1 'chef':11 'dentist':14 'documentari':7 'egg':2 'fast':5 'fast-pac':4 'forens':19 'gulf':23 'mexico':25 'must':16 'pace':6 'pastri':10 'psychologist':20 'pursu':17\"),\n",
       " (6,\n",
       "  'Agent Truman',\n",
       "  'A Intrepid Panorama of a Robot And a Boy who must Escape a Sumo Wrestler in Ancient China',\n",
       "  2006,\n",
       "  1,\n",
       "  3,\n",
       "  Decimal('2.99'),\n",
       "  169,\n",
       "  Decimal('17.99'),\n",
       "  'PG',\n",
       "  datetime.datetime(2013, 5, 26, 14, 50, 58, 951000),\n",
       "  ['Deleted Scenes'],\n",
       "  \"'agent':1 'ancient':19 'boy':11 'china':20 'escap':14 'intrepid':4 'must':13 'panorama':5 'robot':8 'sumo':16 'truman':2 'wrestler':17\"),\n",
       " (7,\n",
       "  'Airplane Sierra',\n",
       "  'A Touching Saga of a Hunter And a Butler who must Discover a Butler in A Jet Boat',\n",
       "  2006,\n",
       "  1,\n",
       "  6,\n",
       "  Decimal('4.99'),\n",
       "  62,\n",
       "  Decimal('28.99'),\n",
       "  'PG-13',\n",
       "  datetime.datetime(2013, 5, 26, 14, 50, 58, 951000),\n",
       "  ['Trailers', 'Deleted Scenes'],\n",
       "  \"'airplan':1 'boat':20 'butler':11,16 'discov':14 'hunter':8 'jet':19 'must':13 'saga':5 'sierra':2 'touch':4\")]"
      ]
     },
     "execution_count": 10,
     "metadata": {},
     "output_type": "execute_result"
    }
   ],
   "source": [
    "cur.fetchmany(10)"
   ]
  },
  {
   "cell_type": "code",
   "execution_count": null,
   "metadata": {},
   "outputs": [],
   "source": []
  }
 ],
 "metadata": {
  "kernelspec": {
   "display_name": "Python 3",
   "language": "python",
   "name": "python3"
  },
  "language_info": {
   "codemirror_mode": {
    "name": "ipython",
    "version": 3
   },
   "file_extension": ".py",
   "mimetype": "text/x-python",
   "name": "python",
   "nbconvert_exporter": "python",
   "pygments_lexer": "ipython3",
   "version": "3.7.3"
  }
 },
 "nbformat": 4,
 "nbformat_minor": 2
}
